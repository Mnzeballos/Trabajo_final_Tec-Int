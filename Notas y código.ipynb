{
 "cells": [
  {
   "cell_type": "markdown",
   "metadata": {},
   "source": [
    "## Librerías:"
   ]
  },
  {
   "cell_type": "code",
   "execution_count": 8,
   "metadata": {},
   "outputs": [],
   "source": [
    "import numpy as np\n",
    "import matplotlib\n",
    "import matplotlib.pyplot as plt\n",
    "import matplotlib.image as mpimg\n",
    "import math\n",
    "import copy\n",
    "import rasterio"
   ]
  },
  {
   "cell_type": "markdown",
   "metadata": {},
   "source": [
    "Para los datos Landsat 8 utilizamos las siguientes fórmulas de MNDWI y NDVI:  \n",
    "\n",
    "*NDWI = (Verde – SWIR)/(Verde + SWIR)*   \n",
    "**NDWI = (Banda 3 – Banda 6)/(Banda 3 + Banda 6)**  \n",
    "Los valores del NDWI corresponden a los siguientes rangos:  \n",
    "0,2 – 1 – Superficie del agua,  \n",
    "0,0 – 0,2 – Inundación, humedad,  \n",
    "-0,3 – 0,0 – Sequía moderada, superficies sin agua,  \n",
    "-1 – -0,3 – Sequía, superficies sin agua  \n",
    "\n",
    "*NDVI = (Rojo – NIR)/(Rojo + NIR)*  \n",
    "**NDVI = (Banda 5 - Banda 4)/(Banda 5 + Banda 4)**  \n"
   ]
  },
  {
   "cell_type": "markdown",
   "metadata": {},
   "source": [
    "## Carga de imagenes"
   ]
  },
  {
   "cell_type": "code",
   "execution_count": 17,
   "metadata": {},
   "outputs": [],
   "source": [
    "# Cargamos la imagen y la dividimos por 255 para normalizarla \n",
    "path = 'Los-Molinos_2023-05-14_6_all_bands/'\n",
    "B3= mpimg.imread(path + '2023-05-14.SR_B3.tif') / 255\n",
    "B4= mpimg.imread(path + '2023-05-14.SR_B4.tif') / 255\n",
    "B5= mpimg.imread(path + '2023-05-14.SR_B5.tif') / 255\n",
    "B5= mpimg.imread(path + '2023-05-14.SR_B6.tif') / 255"
   ]
  },
  {
   "cell_type": "markdown",
   "metadata": {},
   "source": [
    "### Exploración de las imágenes"
   ]
  },
  {
   "cell_type": "code",
   "execution_count": 18,
   "metadata": {},
   "outputs": [
    {
     "name": "stdout",
     "output_type": "stream",
     "text": [
      "Dimensiones de imagen B3:\n",
      "        Filas =  406 ; Columnas =  298\n",
      "Dimensiones de imagen B4:\n",
      "        Filas =  406 ; Columnas =  298\n",
      "Dimensiones de imagen B5:\n",
      "        Filas =  406 ; Columnas =  298\n",
      "Dimensiones de imagen B6:\n"
     ]
    },
    {
     "ename": "NameError",
     "evalue": "name 'B6' is not defined",
     "output_type": "error",
     "traceback": [
      "\u001b[1;31m---------------------------------------------------------------------------\u001b[0m",
      "\u001b[1;31mNameError\u001b[0m                                 Traceback (most recent call last)",
      "Cell \u001b[1;32mIn[18], line 15\u001b[0m\n\u001b[0;32m     12\u001b[0m \u001b[38;5;28mprint\u001b[39m(\u001b[38;5;124m\"\u001b[39m\u001b[38;5;124m        Filas = \u001b[39m\u001b[38;5;124m\"\u001b[39m, filas, \u001b[38;5;124m\"\u001b[39m\u001b[38;5;124m; Columnas = \u001b[39m\u001b[38;5;124m\"\u001b[39m, columnas)\n\u001b[0;32m     14\u001b[0m \u001b[38;5;28mprint\u001b[39m(\u001b[38;5;124m\"\u001b[39m\u001b[38;5;124mDimensiones de imagen B6:\u001b[39m\u001b[38;5;124m\"\u001b[39m)\n\u001b[1;32m---> 15\u001b[0m [filas, columnas] \u001b[38;5;241m=\u001b[39m B6\u001b[38;5;241m.\u001b[39mshape\n\u001b[0;32m     16\u001b[0m \u001b[38;5;28mprint\u001b[39m(\u001b[38;5;124m\"\u001b[39m\u001b[38;5;124m        Filas = \u001b[39m\u001b[38;5;124m\"\u001b[39m, filas, \u001b[38;5;124m\"\u001b[39m\u001b[38;5;124m; Columnas = \u001b[39m\u001b[38;5;124m\"\u001b[39m, columnas)\n",
      "\u001b[1;31mNameError\u001b[0m: name 'B6' is not defined"
     ]
    }
   ],
   "source": [
    "# Obtenemos las dimensiones\n",
    "print(\"Dimensiones de imagen B3:\")\n",
    "[filas, columnas] = B3.shape\n",
    "print(\"        Filas = \", filas, \"; Columnas = \", columnas)\n",
    "\n",
    "print(\"Dimensiones de imagen B4:\")\n",
    "[filas, columnas] = B4.shape\n",
    "print(\"        Filas = \", filas, \"; Columnas = \", columnas)\n",
    "\n",
    "print(\"Dimensiones de imagen B5:\")\n",
    "[filas, columnas] = B5.shape\n",
    "print(\"        Filas = \", filas, \"; Columnas = \", columnas)\n",
    "\n",
    "print(\"Dimensiones de imagen B6:\")\n",
    "[filas, columnas] = B6.shape\n",
    "print(\"        Filas = \", filas, \"; Columnas = \", columnas)"
   ]
  }
 ],
 "metadata": {
  "kernelspec": {
   "display_name": "base",
   "language": "python",
   "name": "python3"
  },
  "language_info": {
   "codemirror_mode": {
    "name": "ipython",
    "version": 3
   },
   "file_extension": ".py",
   "mimetype": "text/x-python",
   "name": "python",
   "nbconvert_exporter": "python",
   "pygments_lexer": "ipython3",
   "version": "3.11.7"
  }
 },
 "nbformat": 4,
 "nbformat_minor": 2
}
