{
 "cells": [
  {
   "cell_type": "markdown",
   "metadata": {},
   "source": [
    "## Librerías:"
   ]
  },
  {
   "cell_type": "code",
   "execution_count": 8,
   "metadata": {},
   "outputs": [],
   "source": [
    "import numpy as np\n",
    "import matplotlib\n",
    "import matplotlib.pyplot as plt\n",
    "import matplotlib.image as mpimg\n",
    "import math\n",
    "import copy\n",
    "import rasterio"
   ]
  },
  {
   "cell_type": "markdown",
   "metadata": {},
   "source": [
    "Para los datos Landsat 8 utilizamos las siguientes fórmulas de MNDWI y NDVI:  \n",
    "\n",
    "*NDWI = (Verde – SWIR)/(Verde + SWIR)*   \n",
    "**NDWI = (Banda 3 – Banda 6)/(Banda 3 + Banda 6)**  \n",
    "Los valores del NDWI corresponden a los siguientes rangos:  \n",
    "0,2 – 1 – Superficie del agua,  \n",
    "0,0 – 0,2 – Inundación, humedad,  \n",
    "-0,3 – 0,0 – Sequía moderada, superficies sin agua,  \n",
    "-1 – -0,3 – Sequía, superficies sin agua  \n",
    "\n",
    "*NDVI = (Rojo – NIR)/(Rojo + NIR)*  \n",
    "**NDVI = (Banda 5 - Banda 4)/(Banda 5 + Banda 4)**  \n"
   ]
  },
  {
   "cell_type": "markdown",
   "metadata": {},
   "source": [
    "## Carga de imagenes"
   ]
  },
  {
   "cell_type": "code",
   "execution_count": 19,
   "metadata": {},
   "outputs": [],
   "source": [
    "# Cargamos la imagen y la dividimos por 255 para normalizarla \n",
    "path = 'Los-Molinos_2023-05-14_6_all_bands/'\n",
    "B3= mpimg.imread(path + '2023-05-14.SR_B3.tif') / 255\n",
    "B4= mpimg.imread(path + '2023-05-14.SR_B4.tif') / 255\n",
    "B5= mpimg.imread(path + '2023-05-14.SR_B5.tif') / 255\n",
    "B6= mpimg.imread(path + '2023-05-14.SR_B6.tif') / 255"
   ]
  },
  {
   "cell_type": "markdown",
   "metadata": {},
   "source": [
    "### Exploración de las imágenes"
   ]
  },
  {
   "cell_type": "code",
   "execution_count": 20,
   "metadata": {},
   "outputs": [
    {
     "name": "stdout",
     "output_type": "stream",
     "text": [
      "Dimensiones de imagen B3:\n",
      "        Filas =  406 ; Columnas =  298\n",
      "Dimensiones de imagen B4:\n",
      "        Filas =  406 ; Columnas =  298\n",
      "Dimensiones de imagen B5:\n",
      "        Filas =  406 ; Columnas =  298\n",
      "Dimensiones de imagen B6:\n",
      "        Filas =  406 ; Columnas =  298\n"
     ]
    }
   ],
   "source": [
    "# Obtenemos las dimensiones\n",
    "print(\"Dimensiones de imagen B3:\")\n",
    "[filas, columnas] = B3.shape\n",
    "print(\"        Filas = \", filas, \"; Columnas = \", columnas)\n",
    "\n",
    "print(\"Dimensiones de imagen B4:\")\n",
    "[filas, columnas] = B4.shape\n",
    "print(\"        Filas = \", filas, \"; Columnas = \", columnas)\n",
    "\n",
    "print(\"Dimensiones de imagen B5:\")\n",
    "[filas, columnas] = B5.shape\n",
    "print(\"        Filas = \", filas, \"; Columnas = \", columnas)\n",
    "\n",
    "print(\"Dimensiones de imagen B6:\")\n",
    "[filas, columnas] = B6.shape\n",
    "print(\"        Filas = \", filas, \"; Columnas = \", columnas)"
   ]
  }
 ],
 "metadata": {
  "kernelspec": {
   "display_name": "base",
   "language": "python",
   "name": "python3"
  },
  "language_info": {
   "codemirror_mode": {
    "name": "ipython",
    "version": 3
   },
   "file_extension": ".py",
   "mimetype": "text/x-python",
   "name": "python",
   "nbconvert_exporter": "python",
   "pygments_lexer": "ipython3",
   "version": "3.11.7"
  }
 },
 "nbformat": 4,
 "nbformat_minor": 2
}
