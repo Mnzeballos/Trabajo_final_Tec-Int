{
 "cells": [
  {
   "cell_type": "markdown",
   "metadata": {},
   "source": [
    "## Librerías:"
   ]
  },
  {
   "cell_type": "code",
   "execution_count": 28,
   "metadata": {},
   "outputs": [],
   "source": [
    "import numpy as np\n",
    "import matplotlib\n",
    "import matplotlib.pyplot as plt\n",
    "import matplotlib.image as mpimg\n",
    "import math\n",
    "import copy\n",
    "import rasterio\n",
    "import zipfile"
   ]
  },
  {
   "cell_type": "markdown",
   "metadata": {},
   "source": [
    "Para los datos Landsat 8 utilizamos las siguientes fórmulas de MNDWI y NDVI:  \n",
    "\n",
    "*NDWI = (Verde – SWIR)/(Verde + SWIR)*   \n",
    "**NDWI = (Banda 3 – Banda 6)/(Banda 3 + Banda 6)**  \n",
    "Los valores del NDWI corresponden a los siguientes rangos:  \n",
    "0,2 – 1 – Superficie del agua,  \n",
    "0,0 – 0,2 – Inundación, humedad,  \n",
    "-0,3 – 0,0 – Sequía moderada, superficies sin agua,  \n",
    "-1 – -0,3 – Sequía, superficies sin agua  \n",
    "\n",
    "*NDVI = (Rojo – NIR)/(Rojo + NIR)*  \n",
    "**NDVI = (Banda 5 - Banda 4)/(Banda 5 + Banda 4)**  \n"
   ]
  },
  {
   "cell_type": "markdown",
   "metadata": {},
   "source": [
    "## Carga de imagenes"
   ]
  },
  {
   "cell_type": "code",
   "execution_count": 43,
   "metadata": {},
   "outputs": [],
   "source": [
    "imagenes = zipfile.ZipFile('Los-Molinos_2023-05-14_6_all_bands.zip', 'r')\n",
    "imgfile = imagenes.read('2023-05-14.SR_B3.tif')\n",
    "with zipfile.ZipFile('Los-Molinos_2023-05-14_6_all_bands.zip') as myzip:\n",
    "    myzip.extractall('Los-Molinos_2023-05-14_6_all_bands/')"
   ]
  },
  {
   "cell_type": "code",
   "execution_count": 27,
   "metadata": {},
   "outputs": [
    {
     "ename": "IndexError",
     "evalue": "band index 3 out of range (not in (1,))",
     "output_type": "error",
     "traceback": [
      "\u001b[1;31m---------------------------------------------------------------------------\u001b[0m",
      "\u001b[1;31mIndexError\u001b[0m                                Traceback (most recent call last)",
      "Cell \u001b[1;32mIn[27], line 8\u001b[0m\n\u001b[0;32m      6\u001b[0m B6\u001b[38;5;241m=\u001b[39m mpimg\u001b[38;5;241m.\u001b[39mimread(path \u001b[38;5;241m+\u001b[39m \u001b[38;5;124m'\u001b[39m\u001b[38;5;124m2023-05-14.SR_B6.tif\u001b[39m\u001b[38;5;124m'\u001b[39m) \u001b[38;5;241m/\u001b[39m \u001b[38;5;241m255\u001b[39m\n\u001b[0;32m      7\u001b[0m \u001b[38;5;28;01mwith\u001b[39;00m rasterio\u001b[38;5;241m.\u001b[39mopen(\u001b[38;5;124m'\u001b[39m\u001b[38;5;124mLos-Molinos_2023-05-14_6_all_bands/2023-05-14.SR_B3.tif\u001b[39m\u001b[38;5;124m'\u001b[39m) \u001b[38;5;28;01mas\u001b[39;00m src:\n\u001b[1;32m----> 8\u001b[0m     band_red \u001b[38;5;241m=\u001b[39m src\u001b[38;5;241m.\u001b[39mread(\u001b[38;5;241m3\u001b[39m)\n",
      "File \u001b[1;32mrasterio\\_io.pyx:249\u001b[0m, in \u001b[0;36mrasterio._io.DatasetReaderBase.read\u001b[1;34m()\u001b[0m\n",
      "\u001b[1;31mIndexError\u001b[0m: band index 3 out of range (not in (1,))"
     ]
    }
   ],
   "source": [
    "# Cargamos la imagen y la dividimos por 255 para normalizarla \n",
    "path = 'Los-Molinos_2023-05-14_6_all_bands/'\n",
    "B3= mpimg.imread(path + '2023-05-14.SR_B3.tif') / 255\n",
    "B4= mpimg.imread(path + '2023-05-14.SR_B4.tif') / 255\n",
    "B5= mpimg.imread(path + '2023-05-14.SR_B5.tif') / 255\n",
    "B6= mpimg.imread(path + '2023-05-14.SR_B6.tif') / 255\n"
   ]
  },
  {
   "cell_type": "markdown",
   "metadata": {},
   "source": [
    "### Exploración de las imágenes"
   ]
  },
  {
   "cell_type": "code",
   "execution_count": null,
   "metadata": {},
   "outputs": [],
   "source": [
    "# Obtenemos las dimensiones\n",
    "print(\"Dimensiones de imagen B3:\")\n",
    "[filas, columnas] = B3.shape\n",
    "print(\"        Filas = \", filas, \"; Columnas = \", columnas)\n",
    "\n",
    "print(\"Dimensiones de imagen B4:\")\n",
    "[filas, columnas] = B4.shape\n",
    "print(\"        Filas = \", filas, \"; Columnas = \", columnas)\n",
    "\n",
    "print(\"Dimensiones de imagen B5:\")\n",
    "[filas, columnas] = B5.shape\n",
    "print(\"        Filas = \", filas, \"; Columnas = \", columnas)\n",
    "\n",
    "print(\"Dimensiones de imagen B6:\")\n",
    "[filas, columnas] = B6.shape\n",
    "print(\"        Filas = \", filas, \"; Columnas = \", columnas)\n",
    "\n",
    "# Mostramos qué tipo de objeto son las bandas\n",
    "print('\\nTipo de objeto: ', type(B3), type(B4), type(B5), type(B6))\n",
    "\n"
   ]
  },
  {
   "cell_type": "markdown",
   "metadata": {},
   "source": [
    "Ver imagenes"
   ]
  },
  {
   "cell_type": "code",
   "execution_count": 40,
   "metadata": {},
   "outputs": [
    {
     "name": "stderr",
     "output_type": "stream",
     "text": [
      "Clipping input data to the valid range for imshow with RGB data ([0..1] for floats or [0..255] for integers).\n"
     ]
    },
    {
     "data": {
      "image/png": "[encoded data removed]",
      "text/plain": [
       "<Figure size 400x400 with 1 Axes>"
      ]
     },
     "metadata": {},
     "output_type": "display_data"
    }
   ],
   "source": [
    "# unimos las bandas\n",
    "Bandas = np.zeros([filas, columnas, 4])\n",
    "Bandas[:, :, 0] = B3\n",
    "Bandas[:, :, 1] = B4\n",
    "Bandas[:, :, 2] = B5\n",
    "Bandas[:, :, 3] = B6\n",
    "\n",
    "# Creamos una figura y definimos su tamaño, los puntos por pulgada, el color del fondo y de bordes\n",
    "plt.figure(figsize=(5, 5), dpi= 80, facecolor='w', edgecolor='k')\n",
    "\n",
    "# Creamos el título de la figura\n",
    "plt.title('Imagen original')\n",
    "\n",
    "# Cargamos los datos de la imagen a la figura, definiendo los valores máximos y mínimos\n",
    "plt.imshow(Bandas, vmin=0)\n",
    "\n",
    "# Mostramos la figura\n",
    "plt.show()"
   ]
  }
 ],
 "metadata": {
  "kernelspec": {
   "display_name": "base",
   "language": "python",
   "name": "python3"
  },
  "language_info": {
   "codemirror_mode": {
    "name": "ipython",
    "version": 3
   },
   "file_extension": ".py",
   "mimetype": "text/x-python",
   "name": "python",
   "nbconvert_exporter": "python",
   "pygments_lexer": "ipython3",
   "version": "3.11.7"
  }
 },
 "nbformat": 4,
 "nbformat_minor": 2
}
